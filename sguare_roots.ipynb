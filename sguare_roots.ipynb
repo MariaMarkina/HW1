{
 "cells": [
  {
   "cell_type": "code",
   "execution_count": 28,
   "metadata": {},
   "outputs": [
    {
     "name": "stdout",
     "output_type": "stream",
     "text": [
      "b = 0\n",
      "c = 0\n",
      "(-0.0, -0.0)\n"
     ]
    }
   ],
   "source": [
    "import math\n",
    "b = float(input(\"b = \"))\n",
    "c = float(input(\"c = \"))\n",
    "def solve_quad(b, c):\n",
    "    discriminant = b*b - 4*c\n",
    "    if discriminant == b**2 and discriminant !=0:\n",
    "        root1 = -b\n",
    "        root2 = c/root1\n",
    "        return root1, root2\n",
    "    if discriminant > 0:\n",
    "        root1 = (-b + math.sqrt(discriminant))/2\n",
    "        root2 = (-b - math.sqrt(discriminant))/2\n",
    "        return root1, root2\n",
    "    elif discriminant == 0:\n",
    "        root1 = root2 = -b/2\n",
    "        return root1, root2\n",
    "    elif discriminant < 0:\n",
    "        root1real = root2real = (-b /2)\n",
    "        imaginary = math.sqrt(-discriminant)/2\n",
    "        root1 = complex(root1real, imaginary)\n",
    "        root2 = complex(root2real, -imaginary)\n",
    "        return root1, root2\n",
    "print(solve_quad(b, c)) "
   ]
  },
  {
   "cell_type": "code",
   "execution_count": 29,
   "metadata": {},
   "outputs": [],
   "source": [
    "from numpy import allclose\n",
    "variants = [{'b': 4.0, 'c': 3.0},\n",
    "            {'b': 2.0, 'c': 1.0},\n",
    "            {'b': 0.5, 'c': 4.0},\n",
    "            {'b': 1e10, 'c': 3.0},\n",
    "            {'b': -1e10, 'c': 4.0},]\n",
    " "
   ]
  },
  {
   "cell_type": "code",
   "execution_count": 30,
   "metadata": {},
   "outputs": [
    {
     "name": "stdout",
     "output_type": "stream",
     "text": [
      "True\n",
      "True\n",
      "True\n",
      "True\n",
      "True\n"
     ]
    }
   ],
   "source": [
    "for var in variants:\n",
    "    x1, x2 = solve_quad(**var)\n",
    "    print(allclose(x1*x2, var['c']))"
   ]
  },
  {
   "cell_type": "code",
   "execution_count": null,
   "metadata": {
    "collapsed": true
   },
   "outputs": [],
   "source": []
  }
 ],
 "metadata": {
  "kernelspec": {
   "display_name": "Python 3",
   "language": "python",
   "name": "python3"
  },
  "language_info": {
   "codemirror_mode": {
    "name": "ipython",
    "version": 3
   },
   "file_extension": ".py",
   "mimetype": "text/x-python",
   "name": "python",
   "nbconvert_exporter": "python",
   "pygments_lexer": "ipython3",
   "version": "3.6.3"
  }
 },
 "nbformat": 4,
 "nbformat_minor": 2
}
