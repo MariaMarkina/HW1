{
 "cells": [
  {
   "cell_type": "code",
   "execution_count": 11,
   "metadata": {},
   "outputs": [
    {
     "name": "stdout",
     "output_type": "stream",
     "text": [
      "0.0362269709091\n"
     ]
    }
   ],
   "source": [
    "import numpy as np\n",
    "In = 0\n",
    "a = 0.1\n",
    "I0=np.log((1+a)/a)\n",
    "#print(I0)\n",
    "for n in range (1, 26, 1):\n",
    "    In= 1/n - a*I0\n",
    "    I0 = In\n",
    "print(I0)\n",
    " "
   ]
  },
  {
   "cell_type": "code",
   "execution_count": 12,
   "metadata": {},
   "outputs": [
    {
     "name": "stdout",
     "output_type": "stream",
     "text": [
      "0.0036491646590318025\n"
     ]
    }
   ],
   "source": [
    "import numpy as np\n",
    "In = 0\n",
    "a = 10\n",
    "I = 0\n",
    "for n in range (100, 24, -1):\n",
    "    I= (-In + 1/n)/a\n",
    "    In = I\n",
    "print(I) "
   ]
  },
  {
   "cell_type": "code",
   "execution_count": 13,
   "metadata": {},
   "outputs": [
    {
     "name": "stdout",
     "output_type": "stream",
     "text": [
      "-748346367.401\n"
     ]
    }
   ],
   "source": [
    "import numpy as np\n",
    "In = 0\n",
    "a = 10\n",
    "I0=np.log((1+a)/a)\n",
    "#print(I0)\n",
    "for n in range (1, 26, 1):\n",
    "    In= 1/n - a*I0\n",
    "    I0 = In\n",
    "print(I0)"
   ]
  },
  {
   "cell_type": "code",
   "execution_count": null,
   "metadata": {
    "collapsed": true
   },
   "outputs": [],
   "source": []
  }
 ],
 "metadata": {
  "kernelspec": {
   "display_name": "Python 3",
   "language": "python",
   "name": "python3"
  },
  "language_info": {
   "codemirror_mode": {
    "name": "ipython",
    "version": 3
   },
   "file_extension": ".py",
   "mimetype": "text/x-python",
   "name": "python",
   "nbconvert_exporter": "python",
   "pygments_lexer": "ipython3",
   "version": "3.6.3"
  }
 },
 "nbformat": 4,
 "nbformat_minor": 2
}
